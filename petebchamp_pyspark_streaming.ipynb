{
 "cells": [
  {
   "cell_type": "code",
   "execution_count": 20,
   "metadata": {},
   "outputs": [
    {
     "data": {
      "application/vnd.jupyter.widget-view+json": {
       "model_id": "5fc5ab9024bf4d6dac580d24f0453004",
       "version_major": 2,
       "version_minor": 0
      },
      "text/plain": [
       "VBox()"
      ]
     },
     "metadata": {},
     "output_type": "display_data"
    },
    {
     "data": {
      "application/vnd.jupyter.widget-view+json": {
       "model_id": "",
       "version_major": 2,
       "version_minor": 0
      },
      "text/plain": [
       "FloatProgress(value=0.0, bar_style='info', description='Progress:', layout=Layout(height='25px', width='50%'),…"
      ]
     },
     "metadata": {},
     "output_type": "display_data"
    }
   ],
   "source": [
    "#Read raw JSON written to S3 by Kinesis, then write back to S3 as parquet\n",
    "\n",
    "from pyspark.sql.types import *\n",
    "from pyspark.sql.functions import struct\n",
    "\n",
    "file_path = \"s3://petebchamp-s3-raw/2020\"\n",
    "\n",
    "jsonSchema = (\n",
    "  StructType()\n",
    "    .add(\"createdate\", TimestampType())\n",
    "    .add(\"firstname\", StringType())\n",
    "    .add(\"lastname\", StringType())\n",
    "    .add(\"gender\", StringType())\n",
    "    .add(\"birthdate\", DateType())\n",
    ")\n",
    "\n",
    "df = (spark\n",
    "    .readStream\n",
    "    .schema(jsonSchema)      \n",
    "    .json(file_path + \"/*/*/*/*\")\n",
    ")\n",
    "\n",
    "dest_path = 's3://petebchamp-s3/parquet_files'\n",
    "\n",
    "query = (df\n",
    "    .writeStream\n",
    "    .format('parquet')\n",
    "    .option('path', dest_path)         \n",
    "    .option('outputMode', 'append')\n",
    "    .option(\"checkpointLocation\", dest_path + \"/checkpoint\")\n",
    "    .start()\n",
    ")\n"
   ]
  }
 ],
 "metadata": {
  "kernelspec": {
   "display_name": "PySpark",
   "language": "",
   "name": "pysparkkernel"
  },
  "language_info": {
   "codemirror_mode": {
    "name": "python",
    "version": 2
   },
   "mimetype": "text/x-python",
   "name": "pyspark",
   "pygments_lexer": "python2"
  }
 },
 "nbformat": 4,
 "nbformat_minor": 4
}
