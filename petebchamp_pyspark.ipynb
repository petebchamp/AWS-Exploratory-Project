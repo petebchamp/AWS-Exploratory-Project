{
 "cells": [
  {
   "cell_type": "code",
   "execution_count": 1,
   "metadata": {},
   "outputs": [
    {
     "data": {
      "application/vnd.jupyter.widget-view+json": {
       "model_id": "4944201e114045e194ce6e03a59e11be",
       "version_major": 2,
       "version_minor": 0
      },
      "text/plain": [
       "VBox()"
      ]
     },
     "metadata": {},
     "output_type": "display_data"
    },
    {
     "name": "stdout",
     "output_type": "stream",
     "text": [
      "Starting Spark application\n"
     ]
    },
    {
     "data": {
      "text/html": [
       "<table>\n",
       "<tr><th>ID</th><th>YARN Application ID</th><th>Kind</th><th>State</th><th>Spark UI</th><th>Driver log</th><th>Current session?</th></tr><tr><td>0</td><td>application_1596321508721_0001</td><td>pyspark</td><td>idle</td><td><a target=\"_blank\" href=\"http://ip-172-31-8-171.us-west-1.compute.internal:20888/proxy/application_1596321508721_0001/\">Link</a></td><td><a target=\"_blank\" href=\"http://ip-172-31-14-81.us-west-1.compute.internal:8042/node/containerlogs/container_1596321508721_0001_01_000001/livy\">Link</a></td><td>✔</td></tr></table>"
      ],
      "text/plain": [
       "<IPython.core.display.HTML object>"
      ]
     },
     "metadata": {},
     "output_type": "display_data"
    },
    {
     "data": {
      "application/vnd.jupyter.widget-view+json": {
       "model_id": "",
       "version_major": 2,
       "version_minor": 0
      },
      "text/plain": [
       "FloatProgress(value=0.0, bar_style='info', description='Progress:', layout=Layout(height='25px', width='50%'),…"
      ]
     },
     "metadata": {},
     "output_type": "display_data"
    },
    {
     "name": "stdout",
     "output_type": "stream",
     "text": [
      "SparkSession available as 'spark'.\n"
     ]
    },
    {
     "data": {
      "application/vnd.jupyter.widget-view+json": {
       "model_id": "",
       "version_major": 2,
       "version_minor": 0
      },
      "text/plain": [
       "FloatProgress(value=0.0, bar_style='info', description='Progress:', layout=Layout(height='25px', width='50%'),…"
      ]
     },
     "metadata": {},
     "output_type": "display_data"
    },
    {
     "name": "stdout",
     "output_type": "stream",
     "text": [
      "+--------------------+---------+--------+------+----------+\n",
      "|          createdate|firstname|lastname|gender| birthdate|\n",
      "+--------------------+---------+--------+------+----------+\n",
      "|2020-07-29 18:19:...|     Cory|   Parks|     M|2013-02-01|\n",
      "|2020-07-29 18:19:...|    David|  Cooper|     F|2001-09-02|\n",
      "|2020-07-29 18:19:...|    Kayla|  Chavez|     F|1994-10-29|\n",
      "|2020-07-29 18:19:...|    James| Johnson|     F|1929-07-13|\n",
      "|2020-07-29 18:19:...|     Adam| Garrett|     M|1998-01-07|\n",
      "|2020-07-29 18:19:...|     Mark|  Adkins|     M|2004-07-30|\n",
      "|2020-07-29 18:19:...| Kristine|  Flores|     M|1909-11-06|\n",
      "|2020-07-29 18:20:...|  Kristin|  Garcia|     M|1960-05-23|\n",
      "|2020-07-29 18:20:...|  Tiffany|  Jensen|     F|1955-08-13|\n",
      "|2020-07-29 18:20:...|  Matthew|   Yates|     M|1928-02-14|\n",
      "+--------------------+---------+--------+------+----------+\n",
      "only showing top 10 rows"
     ]
    }
   ],
   "source": [
    "#Read raw JSON written to S3 by Kinesis\n",
    "\n",
    "from pyspark.sql.types import *\n",
    "from pyspark.sql.functions import struct\n",
    "\n",
    "file_path = \"s3://petebchamp-s3-raw/2020\"\n",
    "\n",
    "jsonSchema = (\n",
    "  StructType()\n",
    "    .add(\"createdate\", TimestampType())\n",
    "    .add(\"firstname\", StringType())\n",
    "    .add(\"lastname\", StringType())\n",
    "    .add(\"gender\", StringType())\n",
    "    .add(\"birthdate\", DateType())\n",
    ")\n",
    "\n",
    "df = spark.read.json(path = file_path + \"/*/*/*/*\", schema = jsonSchema)\n",
    "df.show(10)"
   ]
  },
  {
   "cell_type": "code",
   "execution_count": 2,
   "metadata": {},
   "outputs": [
    {
     "data": {
      "application/vnd.jupyter.widget-view+json": {
       "model_id": "83e71350e93645f99424f654c0dc7a51",
       "version_major": 2,
       "version_minor": 0
      },
      "text/plain": [
       "VBox()"
      ]
     },
     "metadata": {},
     "output_type": "display_data"
    },
    {
     "data": {
      "application/vnd.jupyter.widget-view+json": {
       "model_id": "",
       "version_major": 2,
       "version_minor": 0
      },
      "text/plain": [
       "FloatProgress(value=0.0, bar_style='info', description='Progress:', layout=Layout(height='25px', width='50%'),…"
      ]
     },
     "metadata": {},
     "output_type": "display_data"
    },
    {
     "name": "stdout",
     "output_type": "stream",
     "text": [
      "<bound method DataFrame.printSchema of DataFrame[createdate: timestamp, firstname: string, lastname: string, gender: string, birthdate: date]>"
     ]
    }
   ],
   "source": [
    "df.printSchema"
   ]
  },
  {
   "cell_type": "code",
   "execution_count": 3,
   "metadata": {},
   "outputs": [
    {
     "data": {
      "application/vnd.jupyter.widget-view+json": {
       "model_id": "9b4721aba60f4dadbaf5567fc7d994b1",
       "version_major": 2,
       "version_minor": 0
      },
      "text/plain": [
       "VBox()"
      ]
     },
     "metadata": {},
     "output_type": "display_data"
    },
    {
     "data": {
      "application/vnd.jupyter.widget-view+json": {
       "model_id": "",
       "version_major": 2,
       "version_minor": 0
      },
      "text/plain": [
       "FloatProgress(value=0.0, bar_style='info', description='Progress:', layout=Layout(height='25px', width='50%'),…"
      ]
     },
     "metadata": {},
     "output_type": "display_data"
    },
    {
     "name": "stdout",
     "output_type": "stream",
     "text": [
      "30"
     ]
    }
   ],
   "source": [
    "df.count()"
   ]
  },
  {
   "cell_type": "code",
   "execution_count": 4,
   "metadata": {},
   "outputs": [
    {
     "data": {
      "application/vnd.jupyter.widget-view+json": {
       "model_id": "1f9c5b119c4645429ac19030806a79b7",
       "version_major": 2,
       "version_minor": 0
      },
      "text/plain": [
       "VBox()"
      ]
     },
     "metadata": {},
     "output_type": "display_data"
    },
    {
     "data": {
      "application/vnd.jupyter.widget-view+json": {
       "model_id": "",
       "version_major": 2,
       "version_minor": 0
      },
      "text/plain": [
       "FloatProgress(value=0.0, bar_style='info', description='Progress:', layout=Layout(height='25px', width='50%'),…"
      ]
     },
     "metadata": {},
     "output_type": "display_data"
    }
   ],
   "source": [
    "# Write to S3 as parquet\n",
    "# This will create duplicates if run multiple times (which is deliberate in this case, as they will be eliminated below)\n",
    "\n",
    "dest_path = 's3://petebchamp-s3/parquet_files'\n",
    "df.write.parquet(path = dest_path, mode = 'append')"
   ]
  },
  {
   "cell_type": "code",
   "execution_count": 5,
   "metadata": {},
   "outputs": [
    {
     "data": {
      "application/vnd.jupyter.widget-view+json": {
       "model_id": "666e4616bdb0413ea75e6a43f455a246",
       "version_major": 2,
       "version_minor": 0
      },
      "text/plain": [
       "VBox()"
      ]
     },
     "metadata": {},
     "output_type": "display_data"
    },
    {
     "data": {
      "application/vnd.jupyter.widget-view+json": {
       "model_id": "",
       "version_major": 2,
       "version_minor": 0
      },
      "text/plain": [
       "FloatProgress(value=0.0, bar_style='info', description='Progress:', layout=Layout(height='25px', width='50%'),…"
      ]
     },
     "metadata": {},
     "output_type": "display_data"
    }
   ],
   "source": [
    "df_parquet = spark.read.parquet(dest_path)"
   ]
  },
  {
   "cell_type": "code",
   "execution_count": 6,
   "metadata": {},
   "outputs": [
    {
     "data": {
      "application/vnd.jupyter.widget-view+json": {
       "model_id": "d2211e4de7f24cb1bc2fd61dfff3f307",
       "version_major": 2,
       "version_minor": 0
      },
      "text/plain": [
       "VBox()"
      ]
     },
     "metadata": {},
     "output_type": "display_data"
    },
    {
     "data": {
      "application/vnd.jupyter.widget-view+json": {
       "model_id": "",
       "version_major": 2,
       "version_minor": 0
      },
      "text/plain": [
       "FloatProgress(value=0.0, bar_style='info', description='Progress:', layout=Layout(height='25px', width='50%'),…"
      ]
     },
     "metadata": {},
     "output_type": "display_data"
    },
    {
     "name": "stdout",
     "output_type": "stream",
     "text": [
      "180"
     ]
    }
   ],
   "source": [
    "df_parquet.count()"
   ]
  },
  {
   "cell_type": "code",
   "execution_count": 7,
   "metadata": {},
   "outputs": [
    {
     "data": {
      "application/vnd.jupyter.widget-view+json": {
       "model_id": "157fc4573ecc42f19df00b490187f099",
       "version_major": 2,
       "version_minor": 0
      },
      "text/plain": [
       "VBox()"
      ]
     },
     "metadata": {},
     "output_type": "display_data"
    },
    {
     "data": {
      "application/vnd.jupyter.widget-view+json": {
       "model_id": "",
       "version_major": 2,
       "version_minor": 0
      },
      "text/plain": [
       "FloatProgress(value=0.0, bar_style='info', description='Progress:', layout=Layout(height='25px', width='50%'),…"
      ]
     },
     "metadata": {},
     "output_type": "display_data"
    },
    {
     "name": "stdout",
     "output_type": "stream",
     "text": [
      "30"
     ]
    }
   ],
   "source": [
    "# Originally received error: Unable to instantiate org.apache.hadoop.hive.ql.metadata.SessionHiveMetaStoreClient\n",
    "# Created new cluster with additional applications\n",
    "\n",
    "df_parquet.createOrReplaceTempView(\"tbl\")\n",
    "\n",
    "sql = \"\"\"\n",
    "    SELECT \n",
    "        createdate, firstname, lastname, gender, birthdate, \n",
    "        ROW_NUMBER() OVER(PARTITION BY firstname, lastname, gender, birthdate ORDER BY createdate) row_num\n",
    "    FROM tbl\n",
    "    \"\"\"\n",
    "\n",
    "df_parquet_dupes1 = spark.sql(sql)\n",
    "df_parquet_clean1 = df_parquet_dupes1.where('row_num = 1')\n",
    "df_parquet_clean1.count()\n"
   ]
  },
  {
   "cell_type": "code",
   "execution_count": 8,
   "metadata": {},
   "outputs": [
    {
     "data": {
      "application/vnd.jupyter.widget-view+json": {
       "model_id": "9a7db2f5808045e982150032d4773823",
       "version_major": 2,
       "version_minor": 0
      },
      "text/plain": [
       "VBox()"
      ]
     },
     "metadata": {},
     "output_type": "display_data"
    },
    {
     "data": {
      "application/vnd.jupyter.widget-view+json": {
       "model_id": "",
       "version_major": 2,
       "version_minor": 0
      },
      "text/plain": [
       "FloatProgress(value=0.0, bar_style='info', description='Progress:', layout=Layout(height='25px', width='50%'),…"
      ]
     },
     "metadata": {},
     "output_type": "display_data"
    },
    {
     "name": "stdout",
     "output_type": "stream",
     "text": [
      "30"
     ]
    }
   ],
   "source": [
    "#Same output as above\n",
    "\n",
    "from pyspark.sql.window import *\n",
    "from pyspark.sql.functions import row_number\n",
    "\n",
    "df_parquet_dupes2 = (df_parquet\n",
    "    .withColumn('row_num', row_number()\n",
    "        .over(Window.partitionBy(['firstname', 'lastname', 'gender', 'birthdate'])\n",
    "        .orderBy('createdate'))))\n",
    "\n",
    "df_parquet_clean2 = df_parquet_dupes2.where('row_num = 1')\n",
    "df_parquet_clean2.count()\n"
   ]
  }
 ],
 "metadata": {
  "kernelspec": {
   "display_name": "PySpark",
   "language": "",
   "name": "pysparkkernel"
  },
  "language_info": {
   "codemirror_mode": {
    "name": "python",
    "version": 2
   },
   "mimetype": "text/x-python",
   "name": "pyspark",
   "pygments_lexer": "python2"
  }
 },
 "nbformat": 4,
 "nbformat_minor": 4
}
