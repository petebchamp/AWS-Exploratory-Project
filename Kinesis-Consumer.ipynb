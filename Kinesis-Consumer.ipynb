{
 "cells": [
  {
   "cell_type": "code",
   "execution_count": 1,
   "metadata": {},
   "outputs": [],
   "source": [
    "import boto3\n",
    "import json\n",
    "import time\n",
    "from faker import Faker\n",
    "\n",
    "fake = Faker()\n",
    "kinesis = boto3.client('kinesis')"
   ]
  },
  {
   "cell_type": "code",
   "execution_count": 2,
   "metadata": {},
   "outputs": [
    {
     "name": "stdout",
     "output_type": "stream",
     "text": [
      "[]\n",
      "[{'SequenceNumber': '49609271672181081963178164461509949559604288667103789058', 'ApproximateArrivalTimestamp': datetime.datetime(2020, 7, 29, 18, 19, 44, 826000, tzinfo=tzlocal()), 'Data': b'{\"createdate\": \"2020-07-29 18:19:45.785644\", \"firstname\": \"Kayla\", \"lastname\": \"Chavez\", \"gender\": \"F\", \"birthdate\": \"1994-10-29\"}\\n', 'PartitionKey': 'partitionkey'}]\n",
      "[{'SequenceNumber': '49609271672181081963178164472582501141454677484396085250', 'ApproximateArrivalTimestamp': datetime.datetime(2020, 7, 29, 18, 19, 47, 909000, tzinfo=tzlocal()), 'Data': b'{\"createdate\": \"2020-07-29 18:19:48.844165\", \"firstname\": \"James\", \"lastname\": \"Johnson\", \"gender\": \"F\", \"birthdate\": \"1929-07-13\"}\\n', 'PartitionKey': 'partitionkey'}]\n",
      "[{'SequenceNumber': '49609271672181081963178164483014322038909312839094108162', 'ApproximateArrivalTimestamp': datetime.datetime(2020, 7, 29, 18, 19, 50, 972000, tzinfo=tzlocal()), 'Data': b'{\"createdate\": \"2020-07-29 18:19:51.924311\", \"firstname\": \"Adam\", \"lastname\": \"Garrett\", \"gender\": \"M\", \"birthdate\": \"1998-01-07\"}\\n', 'PartitionKey': 'partitionkey'}]\n",
      "[{'SequenceNumber': '49609271672181081963178164493562199815046952594563923970', 'ApproximateArrivalTimestamp': datetime.datetime(2020, 7, 29, 18, 19, 54, 29000, tzinfo=tzlocal()), 'Data': b'{\"createdate\": \"2020-07-29 18:19:54.989487\", \"firstname\": \"Mark\", \"lastname\": \"Adkins\", \"gender\": \"M\", \"birthdate\": \"2004-07-30\"}\\n', 'PartitionKey': 'partitionkey'}]\n",
      "[{'SequenceNumber': '49609271672181081963178164506043149976748384400388915202', 'ApproximateArrivalTimestamp': datetime.datetime(2020, 7, 29, 18, 19, 57, 79000, tzinfo=tzlocal()), 'Data': b'{\"createdate\": \"2020-07-29 18:19:58.045184\", \"firstname\": \"Kristine\", \"lastname\": \"Flores\", \"gender\": \"M\", \"birthdate\": \"1909-11-06\"}\\n', 'PartitionKey': 'partitionkey'}]\n",
      "[{'SequenceNumber': '49609271672181081963178164517205162069250255776609468418', 'ApproximateArrivalTimestamp': datetime.datetime(2020, 7, 29, 18, 20, 0, 148000, tzinfo=tzlocal()), 'Data': b'{\"createdate\": \"2020-07-29 18:20:01.096241\", \"firstname\": \"Kristin\", \"lastname\": \"Garcia\", \"gender\": \"M\", \"birthdate\": \"1960-05-23\"}\\n', 'PartitionKey': 'partitionkey'}]\n",
      "[{'SequenceNumber': '49609271672181081963178164528353875977736366231908253698', 'ApproximateArrivalTimestamp': datetime.datetime(2020, 7, 29, 18, 20, 3, 210000, tzinfo=tzlocal()), 'Data': b'{\"createdate\": \"2020-07-29 18:20:04.166194\", \"firstname\": \"Tiffany\", \"lastname\": \"Jensen\", \"gender\": \"F\", \"birthdate\": \"1955-08-13\"}\\n', 'PartitionKey': 'partitionkey'}]\n",
      "[{'SequenceNumber': '49609271672181081963178164538854605646909035449564528642', 'ApproximateArrivalTimestamp': datetime.datetime(2020, 7, 29, 18, 20, 6, 272000, tzinfo=tzlocal()), 'Data': b'{\"createdate\": \"2020-07-29 18:20:07.227129\", \"firstname\": \"Matthew\", \"lastname\": \"Yates\", \"gender\": \"M\", \"birthdate\": \"1928-02-14\"}\\n', 'PartitionKey': 'partitionkey'}]\n",
      "[{'SequenceNumber': '49609271672181081963178164550630752055775138446535819266', 'ApproximateArrivalTimestamp': datetime.datetime(2020, 7, 29, 18, 20, 9, 317000, tzinfo=tzlocal()), 'Data': b'{\"createdate\": \"2020-07-29 18:20:10.292882\", \"firstname\": \"Jesse\", \"lastname\": \"Spence\", \"gender\": \"F\", \"birthdate\": \"2008-03-15\"}\\n', 'PartitionKey': 'partitionkey'}]\n",
      "[{'SequenceNumber': '49609271672181081963178164562634176518728791728351870978', 'ApproximateArrivalTimestamp': datetime.datetime(2020, 7, 29, 18, 20, 12, 386000, tzinfo=tzlocal()), 'Data': b'{\"createdate\": \"2020-07-29 18:20:13.332866\", \"firstname\": \"Samantha\", \"lastname\": \"Fletcher\", \"gender\": \"F\", \"birthdate\": \"1955-04-18\"}\\n', 'PartitionKey': 'partitionkey'}]\n",
      "[{'SequenceNumber': '49609271672181081963178164573443182271903191385558220802', 'ApproximateArrivalTimestamp': datetime.datetime(2020, 7, 29, 18, 20, 15, 455000, tzinfo=tzlocal()), 'Data': b'{\"createdate\": \"2020-07-29 18:20:16.408092\", \"firstname\": \"Luke\", \"lastname\": \"Thompson\", \"gender\": \"M\", \"birthdate\": \"2003-04-12\"}\\n', 'PartitionKey': 'partitionkey'}]\n",
      "[{'SequenceNumber': '49609271672181081963178164587129431475760408478565269506', 'ApproximateArrivalTimestamp': datetime.datetime(2020, 7, 29, 18, 20, 18, 510000, tzinfo=tzlocal()), 'Data': b'{\"createdate\": \"2020-07-29 18:20:19.470809\", \"firstname\": \"Samuel\", \"lastname\": \"Rivera\", \"gender\": \"F\", \"birthdate\": \"1939-05-06\"}\\n', 'PartitionKey': 'partitionkey'}]\n",
      "[{'SequenceNumber': '49609271672181081963178164597469374010924332015985623042', 'ApproximateArrivalTimestamp': datetime.datetime(2020, 7, 29, 18, 20, 21, 584000, tzinfo=tzlocal()), 'Data': b'{\"createdate\": \"2020-07-29 18:20:22.527184\", \"firstname\": \"Jason\", \"lastname\": \"Martinez\", \"gender\": \"F\", \"birthdate\": \"1949-09-17\"}\\n', 'PartitionKey': 'partitionkey'}]\n",
      "[{'SequenceNumber': '49609271672181081963178164608714801984979612805260902402', 'ApproximateArrivalTimestamp': datetime.datetime(2020, 7, 29, 18, 20, 24, 636000, tzinfo=tzlocal()), 'Data': b'{\"createdate\": \"2020-07-29 18:20:25.609812\", \"firstname\": \"Cynthia\", \"lastname\": \"Fields\", \"gender\": \"F\", \"birthdate\": \"1945-06-26\"}\\n', 'PartitionKey': 'partitionkey'}]\n",
      "[{'SequenceNumber': '49609271672181081963178164624468314340377845787015512066', 'ApproximateArrivalTimestamp': datetime.datetime(2020, 7, 29, 18, 20, 27, 761000, tzinfo=tzlocal()), 'Data': b'{\"createdate\": \"2020-07-29 18:20:28.718892\", \"firstname\": \"Tina\", \"lastname\": \"Alexander\", \"gender\": \"M\", \"birthdate\": \"1996-02-16\"}\\n', 'PartitionKey': 'partitionkey'}]\n",
      "[{'SequenceNumber': '49609271672181081963178164638395139782338374085789089794', 'ApproximateArrivalTimestamp': datetime.datetime(2020, 7, 29, 18, 20, 30, 826000, tzinfo=tzlocal()), 'Data': b'{\"createdate\": \"2020-07-29 18:20:31.779079\", \"firstname\": \"Brandon\", \"lastname\": \"Sandoval\", \"gender\": \"M\", \"birthdate\": \"1954-12-22\"}\\n', 'PartitionKey': 'partitionkey'}]\n",
      "[{'SequenceNumber': '49609271672181081963178164656084142374939628376248287234', 'ApproximateArrivalTimestamp': datetime.datetime(2020, 7, 29, 18, 20, 33, 907000, tzinfo=tzlocal()), 'Data': b'{\"createdate\": \"2020-07-29 18:20:34.845017\", \"firstname\": \"David\", \"lastname\": \"Wilkinson\", \"gender\": \"M\", \"birthdate\": \"1955-09-24\"}\\n', 'PartitionKey': 'partitionkey'}]\n",
      "[{'SequenceNumber': '49609271672181081963178164671956129460660095017124102146', 'ApproximateArrivalTimestamp': datetime.datetime(2020, 7, 29, 18, 20, 36, 972000, tzinfo=tzlocal()), 'Data': b'{\"createdate\": \"2020-07-29 18:20:37.928374\", \"firstname\": \"Lisa\", \"lastname\": \"Turner\", \"gender\": \"F\", \"birthdate\": \"2009-07-29\"}\\n', 'PartitionKey': 'partitionkey'}]\n",
      "[{'SequenceNumber': '49609271672181081963178164687401365732056597628048113666', 'ApproximateArrivalTimestamp': datetime.datetime(2020, 7, 29, 18, 20, 40, 31000, tzinfo=tzlocal()), 'Data': b'{\"createdate\": \"2020-07-29 18:20:40.989874\", \"firstname\": \"Benjamin\", \"lastname\": \"Wang\", \"gender\": \"F\", \"birthdate\": \"1943-09-19\"}\\n', 'PartitionKey': 'partitionkey'}]\n",
      "[{'SequenceNumber': '49609271672181081963178164704117183039868075432868839426', 'ApproximateArrivalTimestamp': datetime.datetime(2020, 7, 29, 18, 20, 43, 103000, tzinfo=tzlocal()), 'Data': b'{\"createdate\": \"2020-07-29 18:20:44.051387\", \"firstname\": \"Jeffrey\", \"lastname\": \"Smith\", \"gender\": \"F\", \"birthdate\": \"2006-06-22\"}\\n', 'PartitionKey': 'partitionkey'}]\n",
      "[{'SequenceNumber': '49609271672181081963178164720371190684586764892951805954', 'ApproximateArrivalTimestamp': datetime.datetime(2020, 7, 29, 18, 20, 46, 154000, tzinfo=tzlocal()), 'Data': b'{\"createdate\": \"2020-07-29 18:20:47.122446\", \"firstname\": \"Martin\", \"lastname\": \"Miller\", \"gender\": \"M\", \"birthdate\": \"1954-07-17\"}\\n', 'PartitionKey': 'partitionkey'}]\n",
      "[{'SequenceNumber': '49609271672181081963178164735375169031823927786388586498', 'ApproximateArrivalTimestamp': datetime.datetime(2020, 7, 29, 18, 20, 49, 215000, tzinfo=tzlocal()), 'Data': b'{\"createdate\": \"2020-07-29 18:20:50.171608\", \"firstname\": \"Brenda\", \"lastname\": \"Ramsey\", \"gender\": \"M\", \"birthdate\": \"1922-10-04\"}\\n', 'PartitionKey': 'partitionkey'}]\n",
      "[{'SequenceNumber': '49609271672181081963178164753131871470323601310631329794', 'ApproximateArrivalTimestamp': datetime.datetime(2020, 7, 29, 18, 20, 52, 286000, tzinfo=tzlocal()), 'Data': b'{\"createdate\": \"2020-07-29 18:20:53.232421\", \"firstname\": \"Katherine\", \"lastname\": \"Kirby\", \"gender\": \"F\", \"birthdate\": \"1985-05-19\"}\\n', 'PartitionKey': 'partitionkey'}]\n"
     ]
    },
    {
     "name": "stdout",
     "output_type": "stream",
     "text": [
      "[{'SequenceNumber': '49609271672181081963178164767431046064725435395214409730', 'ApproximateArrivalTimestamp': datetime.datetime(2020, 7, 29, 18, 20, 55, 349000, tzinfo=tzlocal()), 'Data': b'{\"createdate\": \"2020-07-29 18:20:56.303261\", \"firstname\": \"Joel\", \"lastname\": \"Anthony\", \"gender\": \"M\", \"birthdate\": \"1939-07-08\"}\\n', 'PartitionKey': 'partitionkey'}]\n",
      "[{'SequenceNumber': '49609271672181081963178164783547236166008057129380872194', 'ApproximateArrivalTimestamp': datetime.datetime(2020, 7, 29, 18, 20, 58, 416000, tzinfo=tzlocal()), 'Data': b'{\"createdate\": \"2020-07-29 18:20:59.365457\", \"firstname\": \"Caitlin\", \"lastname\": \"Moore\", \"gender\": \"F\", \"birthdate\": \"1928-07-03\"}\\n', 'PartitionKey': 'partitionkey'}]\n",
      "[{'SequenceNumber': '49609271672181081963178164800127653782022696466634506242', 'ApproximateArrivalTimestamp': datetime.datetime(2020, 7, 29, 18, 21, 1, 472000, tzinfo=tzlocal()), 'Data': b'{\"createdate\": \"2020-07-29 18:21:02.433422\", \"firstname\": \"Preston\", \"lastname\": \"May\", \"gender\": \"M\", \"birthdate\": \"1953-10-14\"}\\n', 'PartitionKey': 'partitionkey'}]\n",
      "[{'SequenceNumber': '49609271672181081963178164815569263275960355121314922498', 'ApproximateArrivalTimestamp': datetime.datetime(2020, 7, 29, 18, 21, 4, 533000, tzinfo=tzlocal()), 'Data': b'{\"createdate\": \"2020-07-29 18:21:05.489497\", \"firstname\": \"Brandon\", \"lastname\": \"Harvey\", \"gender\": \"F\", \"birthdate\": \"1932-11-19\"}\\n', 'PartitionKey': 'partitionkey'}]\n",
      "[{'SequenceNumber': '49609271672181081963178164830784803641630078120325283842', 'ApproximateArrivalTimestamp': datetime.datetime(2020, 7, 29, 18, 21, 7, 577000, tzinfo=tzlocal()), 'Data': b'{\"createdate\": \"2020-07-29 18:21:08.551166\", \"firstname\": \"Kyle\", \"lastname\": \"Chen\", \"gender\": \"M\", \"birthdate\": \"1978-10-31\"}\\n', 'PartitionKey': 'partitionkey'}]\n",
      "[]\n",
      "[]\n",
      "[]\n",
      "[]\n",
      "[]\n",
      "[]\n",
      "[]\n",
      "[]\n",
      "[]\n",
      "[]\n",
      "[]\n",
      "[]\n",
      "[]\n",
      "[]\n",
      "[]\n",
      "[]\n",
      "[]\n",
      "[]\n",
      "[]\n",
      "[]\n",
      "[]\n",
      "[]\n",
      "[]\n"
     ]
    },
    {
     "ename": "KeyboardInterrupt",
     "evalue": "",
     "output_type": "error",
     "traceback": [
      "\u001b[1;31m---------------------------------------------------------------------------\u001b[0m",
      "\u001b[1;31mKeyboardInterrupt\u001b[0m                         Traceback (most recent call last)",
      "\u001b[1;32m<ipython-input-2-94a49dc9ec5b>\u001b[0m in \u001b[0;36m<module>\u001b[1;34m\u001b[0m\n\u001b[0;32m     17\u001b[0m     \u001b[0mshard_it\u001b[0m \u001b[1;33m=\u001b[0m \u001b[0mresponse\u001b[0m\u001b[1;33m[\u001b[0m\u001b[1;34m'NextShardIterator'\u001b[0m\u001b[1;33m]\u001b[0m\u001b[1;33m\u001b[0m\u001b[1;33m\u001b[0m\u001b[0m\n\u001b[0;32m     18\u001b[0m     \u001b[0mprint\u001b[0m\u001b[1;33m(\u001b[0m\u001b[0mresponse\u001b[0m\u001b[1;33m[\u001b[0m\u001b[1;34m'Records'\u001b[0m\u001b[1;33m]\u001b[0m\u001b[1;33m)\u001b[0m\u001b[1;33m\u001b[0m\u001b[1;33m\u001b[0m\u001b[0m\n\u001b[1;32m---> 19\u001b[1;33m     \u001b[0mtime\u001b[0m\u001b[1;33m.\u001b[0m\u001b[0msleep\u001b[0m\u001b[1;33m(\u001b[0m\u001b[1;36m3\u001b[0m\u001b[1;33m)\u001b[0m\u001b[1;33m\u001b[0m\u001b[1;33m\u001b[0m\u001b[0m\n\u001b[0m",
      "\u001b[1;31mKeyboardInterrupt\u001b[0m: "
     ]
    }
   ],
   "source": [
    "#Consumer\n",
    "\n",
    "shard_id = 'shardId-000000000000' #we only have one shard!\n",
    "shard_it = kinesis.get_shard_iterator(  \n",
    "        StreamName = 'petebchamp_kstream', \n",
    "        ShardId = shard_id, \n",
    "        ShardIteratorType = 'LATEST')['ShardIterator']\n",
    "\n",
    "response = kinesis.get_records(\n",
    "    ShardIterator = shard_it,\n",
    "    Limit = 2)\n",
    "\n",
    "while 'NextShardIterator' in response:\n",
    "    response = kinesis.get_records(\n",
    "            ShardIterator = shard_it, \n",
    "            Limit = 2)\n",
    "    shard_it = response['NextShardIterator']\n",
    "    print(response['Records'])\n",
    "    time.sleep(3)"
   ]
  },
  {
   "cell_type": "code",
   "execution_count": null,
   "metadata": {},
   "outputs": [],
   "source": []
  }
 ],
 "metadata": {
  "kernelspec": {
   "display_name": "Python 3",
   "language": "python",
   "name": "python3"
  },
  "language_info": {
   "codemirror_mode": {
    "name": "ipython",
    "version": 3
   },
   "file_extension": ".py",
   "mimetype": "text/x-python",
   "name": "python",
   "nbconvert_exporter": "python",
   "pygments_lexer": "ipython3",
   "version": "3.7.3"
  }
 },
 "nbformat": 4,
 "nbformat_minor": 2
}
