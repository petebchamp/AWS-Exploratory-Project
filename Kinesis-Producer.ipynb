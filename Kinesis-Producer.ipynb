{
 "cells": [
  {
   "cell_type": "code",
   "execution_count": 1,
   "metadata": {},
   "outputs": [
    {
     "data": {
      "text/plain": [
       "{'StreamDescription': {'StreamName': 'petebchamp_kstream',\n",
       "  'StreamARN': 'arn:aws:kinesis:us-west-1:443222638259:stream/petebchamp_kstream',\n",
       "  'StreamStatus': 'ACTIVE',\n",
       "  'Shards': [{'ShardId': 'shardId-000000000000',\n",
       "    'HashKeyRange': {'StartingHashKey': '0',\n",
       "     'EndingHashKey': '340282366920938463463374607431768211455'},\n",
       "    'SequenceNumberRange': {'StartingSequenceNumber': '49609227068549813362817936998092851841315437936312844290'}}],\n",
       "  'HasMoreShards': False,\n",
       "  'RetentionPeriodHours': 24,\n",
       "  'StreamCreationTimestamp': datetime.datetime(2020, 7, 25, 14, 52, 26, tzinfo=tzlocal()),\n",
       "  'EnhancedMonitoring': [{'ShardLevelMetrics': []}],\n",
       "  'EncryptionType': 'NONE'},\n",
       " 'ResponseMetadata': {'RequestId': 'cabd210e-7cd0-fcf9-9d21-033641d436eb',\n",
       "  'HTTPStatusCode': 200,\n",
       "  'HTTPHeaders': {'x-amzn-requestid': 'cabd210e-7cd0-fcf9-9d21-033641d436eb',\n",
       "   'x-amz-id-2': '9fn91+olB4CJP1Ozap1hu7zmlBsOhWZLefJjY3yQzxSufXh3xNffYA5/rQrarPLQ2bLaHbg91i+c3xcCj61nx+ENt+j0GPMc',\n",
       "   'date': 'Thu, 30 Jul 2020 01:18:48 GMT',\n",
       "   'content-type': 'application/x-amz-json-1.1',\n",
       "   'content-length': '571'},\n",
       "  'RetryAttempts': 0}}"
      ]
     },
     "execution_count": 1,
     "metadata": {},
     "output_type": "execute_result"
    }
   ],
   "source": [
    "#https://aws.amazon.com/blogs/big-data/snakes-in-the-stream-feeding-and-eating-amazon-kinesis-streams-with-python/\n",
    "#https://www.arundhaj.com/blog/getting-started-kinesis-python.html\n",
    "#https://github.com/aws-samples/kinesis-poster-worker\n",
    "#https://github.com/joke2k/faker\n",
    "#https://boto3.amazonaws.com/v1/documentation/api/latest/index.html\n",
    "\n",
    "import boto3\n",
    "import json\n",
    "import datetime\n",
    "import time\n",
    "from faker import Faker\n",
    "\n",
    "fake = Faker()\n",
    "kinesis = boto3.client('kinesis')\n",
    "\n",
    "kinesis.describe_stream(StreamName = 'petebchamp_kstream')\n",
    "#kinesis.list_streams()"
   ]
  },
  {
   "cell_type": "code",
   "execution_count": 2,
   "metadata": {},
   "outputs": [
    {
     "name": "stdout",
     "output_type": "stream",
     "text": [
      "{\"createdate\": \"2020-07-29 18:19:39.550996\", \"firstname\": \"Cory\", \"lastname\": \"Parks\", \"gender\": \"M\", \"birthdate\": \"2013-02-01\"}\n",
      "{'ShardId': 'shardId-000000000000', 'SequenceNumber': '49609271672181081963178164440061187668001537368430477314', 'ResponseMetadata': {'RequestId': 'c2951fbb-6736-0d6b-9509-3dd170d65b25', 'HTTPStatusCode': 200, 'HTTPHeaders': {'x-amzn-requestid': 'c2951fbb-6736-0d6b-9509-3dd170d65b25', 'x-amz-id-2': 'GXQADGA3on1bwqLge7yBmBl1A8LkEBz1QALxP1wukqN4XqNrP8SQE0/nymLhwKI8bqBHXSYrwQQHQSzL/JUnJdYfoypzQl+1', 'date': 'Thu, 30 Jul 2020 01:19:38 GMT', 'content-type': 'application/x-amz-json-1.1', 'content-length': '110'}, 'RetryAttempts': 0}}\n",
      "{\"createdate\": \"2020-07-29 18:19:42.714322\", \"firstname\": \"David\", \"lastname\": \"Cooper\", \"gender\": \"F\", \"birthdate\": \"2001-09-02\"}\n",
      "{'ShardId': 'shardId-000000000000', 'SequenceNumber': '49609271672181081963178164449103952798718963870110580738', 'ResponseMetadata': {'RequestId': 'dd3580d9-51b5-2d66-8aa9-a2b446557b28', 'HTTPStatusCode': 200, 'HTTPHeaders': {'x-amzn-requestid': 'dd3580d9-51b5-2d66-8aa9-a2b446557b28', 'x-amz-id-2': 's6w5aKya08YPLP4Ef5E23huiRWEKSJ+d20VhCKFG6R1Goc38C7ruPt2ax2BK57cR2x/jUSYkVH76uw0gyQgkpYfo0jGWoYKL', 'date': 'Thu, 30 Jul 2020 01:19:41 GMT', 'content-type': 'application/x-amz-json-1.1', 'content-length': '110'}, 'RetryAttempts': 0}}\n",
      "{\"createdate\": \"2020-07-29 18:19:45.785644\", \"firstname\": \"Kayla\", \"lastname\": \"Chavez\", \"gender\": \"F\", \"birthdate\": \"1994-10-29\"}\n",
      "{'ShardId': 'shardId-000000000000', 'SequenceNumber': '49609271672181081963178164461509949559604288667103789058', 'ResponseMetadata': {'RequestId': 'caed9321-54a9-0496-9d71-b151434952d8', 'HTTPStatusCode': 200, 'HTTPHeaders': {'x-amzn-requestid': 'caed9321-54a9-0496-9d71-b151434952d8', 'x-amz-id-2': 'KNFONEeOjnGVdfvAGBzQmOkPRJblKyVRZMTf2e+P2aOYsj8xNY0hq6ys98sb89BDLWwdT+v3P/RT/i9rRFi+RiNJHFIj1XcV', 'date': 'Thu, 30 Jul 2020 01:19:44 GMT', 'content-type': 'application/x-amz-json-1.1', 'content-length': '110'}, 'RetryAttempts': 0}}\n",
      "{\"createdate\": \"2020-07-29 18:19:48.844165\", \"firstname\": \"James\", \"lastname\": \"Johnson\", \"gender\": \"F\", \"birthdate\": \"1929-07-13\"}\n",
      "{'ShardId': 'shardId-000000000000', 'SequenceNumber': '49609271672181081963178164472582501141454677484396085250', 'ResponseMetadata': {'RequestId': 'e0c351b8-ccd0-3171-b75f-73cbdb30673f', 'HTTPStatusCode': 200, 'HTTPHeaders': {'x-amzn-requestid': 'e0c351b8-ccd0-3171-b75f-73cbdb30673f', 'x-amz-id-2': 'MdeNDjUh4IqHY7Bg+yNW4+sNDm2/HQqCvfYlUqlK03TOptWn7aYCT4wc6kZq7d5u8f1xvYcuJXEuRMxUOg56Xd9H5uBCt+wn', 'date': 'Thu, 30 Jul 2020 01:19:47 GMT', 'content-type': 'application/x-amz-json-1.1', 'content-length': '110'}, 'RetryAttempts': 0}}\n",
      "{\"createdate\": \"2020-07-29 18:19:51.924311\", \"firstname\": \"Adam\", \"lastname\": \"Garrett\", \"gender\": \"M\", \"birthdate\": \"1998-01-07\"}\n",
      "{'ShardId': 'shardId-000000000000', 'SequenceNumber': '49609271672181081963178164483014322038909312839094108162', 'ResponseMetadata': {'RequestId': 'ff1fab93-012b-ca6f-a883-89e516cb9c21', 'HTTPStatusCode': 200, 'HTTPHeaders': {'x-amzn-requestid': 'ff1fab93-012b-ca6f-a883-89e516cb9c21', 'x-amz-id-2': 'kNFrj8XPQnmToYpkgg3pi+3ys39iCaidEmZ7lawdwpvzZlerCRdsswqxA3FwDSClCoBUyFOkQWKTLz9ELTLOcKvW0GT6TGzc', 'date': 'Thu, 30 Jul 2020 01:19:50 GMT', 'content-type': 'application/x-amz-json-1.1', 'content-length': '110'}, 'RetryAttempts': 0}}\n",
      "{\"createdate\": \"2020-07-29 18:19:54.989487\", \"firstname\": \"Mark\", \"lastname\": \"Adkins\", \"gender\": \"M\", \"birthdate\": \"2004-07-30\"}\n",
      "{'ShardId': 'shardId-000000000000', 'SequenceNumber': '49609271672181081963178164493562199815046952594563923970', 'ResponseMetadata': {'RequestId': 'fab956cc-cc1a-646e-ad25-74b6dbfa3220', 'HTTPStatusCode': 200, 'HTTPHeaders': {'x-amzn-requestid': 'fab956cc-cc1a-646e-ad25-74b6dbfa3220', 'x-amz-id-2': 'QSyQiTUVi6UegFp2bJwBp6evO34fJfTPKlSJNxVkNCMjML1EFi3jT9/G2CC8DcCfJWyanlFjxiQu1D+yiu/raapG6L31/kP7', 'date': 'Thu, 30 Jul 2020 01:19:54 GMT', 'content-type': 'application/x-amz-json-1.1', 'content-length': '110'}, 'RetryAttempts': 0}}\n",
      "{\"createdate\": \"2020-07-29 18:19:58.045184\", \"firstname\": \"Kristine\", \"lastname\": \"Flores\", \"gender\": \"M\", \"birthdate\": \"1909-11-06\"}\n",
      "{'ShardId': 'shardId-000000000000', 'SequenceNumber': '49609271672181081963178164506043149976748384400388915202', 'ResponseMetadata': {'RequestId': 'c73a6ab3-1a9d-f7e2-90a6-48ce0d7da1ac', 'HTTPStatusCode': 200, 'HTTPHeaders': {'x-amzn-requestid': 'c73a6ab3-1a9d-f7e2-90a6-48ce0d7da1ac', 'x-amz-id-2': 'qYw3ekHuOdrr5RvsfLT9fR6bqqRSLiKN2wlbvz6kzPYapqfVFalRxtocaUCgOUPp46UUmHSjESHoehBOfWm1JYDq+w+dBmVG', 'date': 'Thu, 30 Jul 2020 01:19:57 GMT', 'content-type': 'application/x-amz-json-1.1', 'content-length': '110'}, 'RetryAttempts': 0}}\n",
      "{\"createdate\": \"2020-07-29 18:20:01.096241\", \"firstname\": \"Kristin\", \"lastname\": \"Garcia\", \"gender\": \"M\", \"birthdate\": \"1960-05-23\"}\n",
      "{'ShardId': 'shardId-000000000000', 'SequenceNumber': '49609271672181081963178164517205162069250255776609468418', 'ResponseMetadata': {'RequestId': 'f4593971-214d-1f96-a3c5-1bf136ad49d8', 'HTTPStatusCode': 200, 'HTTPHeaders': {'x-amzn-requestid': 'f4593971-214d-1f96-a3c5-1bf136ad49d8', 'x-amz-id-2': 'NvNp7jVVCj2d0mABV3c6Ok977/+9zmMm/UKDgPsaiEl6jTajUQdc07mUTTyBtrUTCV1LIq4Glgdkj9eJJKNppHHupUbO+ecF', 'date': 'Thu, 30 Jul 2020 01:20:00 GMT', 'content-type': 'application/x-amz-json-1.1', 'content-length': '110'}, 'RetryAttempts': 0}}\n",
      "{\"createdate\": \"2020-07-29 18:20:04.166194\", \"firstname\": \"Tiffany\", \"lastname\": \"Jensen\", \"gender\": \"F\", \"birthdate\": \"1955-08-13\"}\n",
      "{'ShardId': 'shardId-000000000000', 'SequenceNumber': '49609271672181081963178164528353875977736366231908253698', 'ResponseMetadata': {'RequestId': 'da10dba7-5c6a-1c22-8d8c-f9244b8a4a6c', 'HTTPStatusCode': 200, 'HTTPHeaders': {'x-amzn-requestid': 'da10dba7-5c6a-1c22-8d8c-f9244b8a4a6c', 'x-amz-id-2': '4S24Vt9uRRUgE5SCdLACR8VkSh8b0moHGsa+yw57dB+3Q0IVyG6k+zd6+gtIb4sllbDhheq3uWHHY1y1jT/H4FvixXpHAbTt', 'date': 'Thu, 30 Jul 2020 01:20:03 GMT', 'content-type': 'application/x-amz-json-1.1', 'content-length': '110'}, 'RetryAttempts': 0}}\n",
      "{\"createdate\": \"2020-07-29 18:20:07.227129\", \"firstname\": \"Matthew\", \"lastname\": \"Yates\", \"gender\": \"M\", \"birthdate\": \"1928-02-14\"}\n",
      "{'ShardId': 'shardId-000000000000', 'SequenceNumber': '49609271672181081963178164538854605646909035449564528642', 'ResponseMetadata': {'RequestId': 'fd11d0b4-b1a5-88c6-aa8d-f232a645de88', 'HTTPStatusCode': 200, 'HTTPHeaders': {'x-amzn-requestid': 'fd11d0b4-b1a5-88c6-aa8d-f232a645de88', 'x-amz-id-2': 'NTRxv5Lk1g9oFUs6WSX/L0iFEQ4hcRpI8Br/5fsaAU4sdcj2RvI+Tp6+YAd89V7PGYO2zE68vXIz0hlg9/F14JAcHVIIEuOX', 'date': 'Thu, 30 Jul 2020 01:20:06 GMT', 'content-type': 'application/x-amz-json-1.1', 'content-length': '110'}, 'RetryAttempts': 0}}\n",
      "{\"createdate\": \"2020-07-29 18:20:10.292882\", \"firstname\": \"Jesse\", \"lastname\": \"Spence\", \"gender\": \"F\", \"birthdate\": \"2008-03-15\"}\n",
      "{'ShardId': 'shardId-000000000000', 'SequenceNumber': '49609271672181081963178164550630752055775138446535819266', 'ResponseMetadata': {'RequestId': 'e6b5dc53-a5b8-e90b-b129-fedab258bf45', 'HTTPStatusCode': 200, 'HTTPHeaders': {'x-amzn-requestid': 'e6b5dc53-a5b8-e90b-b129-fedab258bf45', 'x-amz-id-2': 'v5KLBJdHthbfBCAL2G+/mk5ZaDR2kF2RfYJm4adBrydoK6dZZ+SnPvpkCJ9hRZuDA6X4dx/lbQTUSmn8SFU16gqdg4sN5kAx', 'date': 'Thu, 30 Jul 2020 01:20:09 GMT', 'content-type': 'application/x-amz-json-1.1', 'content-length': '110'}, 'RetryAttempts': 0}}\n",
      "{\"createdate\": \"2020-07-29 18:20:13.332866\", \"firstname\": \"Samantha\", \"lastname\": \"Fletcher\", \"gender\": \"F\", \"birthdate\": \"1955-04-18\"}\n",
      "{'ShardId': 'shardId-000000000000', 'SequenceNumber': '49609271672181081963178164562634176518728791728351870978', 'ResponseMetadata': {'RequestId': 'd6aa995f-0cd3-5dea-8136-bbd31b330ba4', 'HTTPStatusCode': 200, 'HTTPHeaders': {'x-amzn-requestid': 'd6aa995f-0cd3-5dea-8136-bbd31b330ba4', 'x-amz-id-2': 'OiXsrVAQKcxRmcZU7HosqAopKZoZfD7bZoGxkZzn65vB1dtwO+Ed4baj3FbaeKhP+hF1dYXIYL+/YgOZYCkHlk5J7g/MlEBT', 'date': 'Thu, 30 Jul 2020 01:20:12 GMT', 'content-type': 'application/x-amz-json-1.1', 'content-length': '110'}, 'RetryAttempts': 0}}\n",
      "{\"createdate\": \"2020-07-29 18:20:16.408092\", \"firstname\": \"Luke\", \"lastname\": \"Thompson\", \"gender\": \"M\", \"birthdate\": \"2003-04-12\"}\n",
      "{'ShardId': 'shardId-000000000000', 'SequenceNumber': '49609271672181081963178164573443182271903191385558220802', 'ResponseMetadata': {'RequestId': 'ce253e4c-5974-1cd8-99b9-1cc34e944a96', 'HTTPStatusCode': 200, 'HTTPHeaders': {'x-amzn-requestid': 'ce253e4c-5974-1cd8-99b9-1cc34e944a96', 'x-amz-id-2': 'qTMmjJPkt4VjTrmajIQtM7YbpE7ZXnj0ChziuOSVmLuYjQ9fbtQVzEyZMuMdUSvG1s+/ReHoQK3CGWwS0+GOKr6MSPsb8BtT', 'date': 'Thu, 30 Jul 2020 01:20:15 GMT', 'content-type': 'application/x-amz-json-1.1', 'content-length': '110'}, 'RetryAttempts': 0}}\n"
     ]
    },
    {
     "name": "stdout",
     "output_type": "stream",
     "text": [
      "{\"createdate\": \"2020-07-29 18:20:19.470809\", \"firstname\": \"Samuel\", \"lastname\": \"Rivera\", \"gender\": \"F\", \"birthdate\": \"1939-05-06\"}\n",
      "{'ShardId': 'shardId-000000000000', 'SequenceNumber': '49609271672181081963178164587129431475760408478565269506', 'ResponseMetadata': {'RequestId': 'ff972a5f-f4d1-f71a-a80b-08cde331a154', 'HTTPStatusCode': 200, 'HTTPHeaders': {'x-amzn-requestid': 'ff972a5f-f4d1-f71a-a80b-08cde331a154', 'x-amz-id-2': 'kfYhvTlILadKZTvVbhjjH2qU2G+K0LdnsHPjHPug9nABsNhjhvxD5noHQpuWvJNanhdCTBiVND9oTMDxiMpsedySNlGOtjx9', 'date': 'Thu, 30 Jul 2020 01:20:18 GMT', 'content-type': 'application/x-amz-json-1.1', 'content-length': '110'}, 'RetryAttempts': 0}}\n",
      "{\"createdate\": \"2020-07-29 18:20:22.527184\", \"firstname\": \"Jason\", \"lastname\": \"Martinez\", \"gender\": \"F\", \"birthdate\": \"1949-09-17\"}\n",
      "{'ShardId': 'shardId-000000000000', 'SequenceNumber': '49609271672181081963178164597469374010924332015985623042', 'ResponseMetadata': {'RequestId': 'ceb48522-69dd-4434-9928-a7b77e3d127a', 'HTTPStatusCode': 200, 'HTTPHeaders': {'x-amzn-requestid': 'ceb48522-69dd-4434-9928-a7b77e3d127a', 'x-amz-id-2': 'dFRPW05fPbU37q/ycrdL6iIwlCXomGa3mJA/3uxSl2E8JvGpioX3KiAA3ejFjKly0WjcGsNSDHIwzRQRdd9VstTZEgAKkKnJ', 'date': 'Thu, 30 Jul 2020 01:20:21 GMT', 'content-type': 'application/x-amz-json-1.1', 'content-length': '110'}, 'RetryAttempts': 0}}\n",
      "{\"createdate\": \"2020-07-29 18:20:25.609812\", \"firstname\": \"Cynthia\", \"lastname\": \"Fields\", \"gender\": \"F\", \"birthdate\": \"1945-06-26\"}\n",
      "{'ShardId': 'shardId-000000000000', 'SequenceNumber': '49609271672181081963178164608714801984979612805260902402', 'ResponseMetadata': {'RequestId': 'c3aa7948-2caf-61b2-9436-5bd03b4f37fc', 'HTTPStatusCode': 200, 'HTTPHeaders': {'x-amzn-requestid': 'c3aa7948-2caf-61b2-9436-5bd03b4f37fc', 'x-amz-id-2': 'V55MU+QgIFpkhlkAiDsZp/SQj3GaUb578DZc1K+TGnkcdCeYqPmhPMZROQl6WLdI4hJhEjzHpdKG6ojvUYSr1G/DJSYJ6kuD', 'date': 'Thu, 30 Jul 2020 01:20:24 GMT', 'content-type': 'application/x-amz-json-1.1', 'content-length': '110'}, 'RetryAttempts': 0}}\n",
      "{\"createdate\": \"2020-07-29 18:20:28.718892\", \"firstname\": \"Tina\", \"lastname\": \"Alexander\", \"gender\": \"M\", \"birthdate\": \"1996-02-16\"}\n",
      "{'ShardId': 'shardId-000000000000', 'SequenceNumber': '49609271672181081963178164624468314340377845787015512066', 'ResponseMetadata': {'RequestId': 'ca4ab5b3-c15b-d136-9dd6-9728d6bb8778', 'HTTPStatusCode': 200, 'HTTPHeaders': {'x-amzn-requestid': 'ca4ab5b3-c15b-d136-9dd6-9728d6bb8778', 'x-amz-id-2': 'jtjRM7bzjmVTIhQZAjM5zRnqpDFySIWZVY59U5CLXZ3gWYNgAKhQ/UzqcxCXSh9JpxVHFW0huKb/e5CeEzUxT/8u9XWOLO6X', 'date': 'Thu, 30 Jul 2020 01:20:27 GMT', 'content-type': 'application/x-amz-json-1.1', 'content-length': '110'}, 'RetryAttempts': 0}}\n",
      "{\"createdate\": \"2020-07-29 18:20:31.779079\", \"firstname\": \"Brandon\", \"lastname\": \"Sandoval\", \"gender\": \"M\", \"birthdate\": \"1954-12-22\"}\n",
      "{'ShardId': 'shardId-000000000000', 'SequenceNumber': '49609271672181081963178164638395139782338374085789089794', 'ResponseMetadata': {'RequestId': 'e904c0f4-6689-0840-be98-e26a71695e0e', 'HTTPStatusCode': 200, 'HTTPHeaders': {'x-amzn-requestid': 'e904c0f4-6689-0840-be98-e26a71695e0e', 'x-amz-id-2': 'pyk27t3ObSsV0XKOYpHjgLJfbPRYs++g5cgirR09o7v5q/sNo7LI89WpVfKQ2qWjETboiqvVJYRToaGY9ubE2uyxGa+p3J9g', 'date': 'Thu, 30 Jul 2020 01:20:30 GMT', 'content-type': 'application/x-amz-json-1.1', 'content-length': '110'}, 'RetryAttempts': 0}}\n",
      "{\"createdate\": \"2020-07-29 18:20:34.845017\", \"firstname\": \"David\", \"lastname\": \"Wilkinson\", \"gender\": \"M\", \"birthdate\": \"1955-09-24\"}\n",
      "{'ShardId': 'shardId-000000000000', 'SequenceNumber': '49609271672181081963178164656084142374939628376248287234', 'ResponseMetadata': {'RequestId': 'e61f3b72-0919-72cf-b183-19d31ef92481', 'HTTPStatusCode': 200, 'HTTPHeaders': {'x-amzn-requestid': 'e61f3b72-0919-72cf-b183-19d31ef92481', 'x-amz-id-2': 'zbkPbTWeBM7PDh1iz+M92FsMg3L21QcWNZ+1xzAZCbq0XOUhCTkltZgVG/IFUqyTzq8+yjFBJlmuY7Qk66cdPyF264tbV8Sq', 'date': 'Thu, 30 Jul 2020 01:20:33 GMT', 'content-type': 'application/x-amz-json-1.1', 'content-length': '110'}, 'RetryAttempts': 0}}\n",
      "{\"createdate\": \"2020-07-29 18:20:37.928374\", \"firstname\": \"Lisa\", \"lastname\": \"Turner\", \"gender\": \"F\", \"birthdate\": \"2009-07-29\"}\n",
      "{'ShardId': 'shardId-000000000000', 'SequenceNumber': '49609271672181081963178164671956129460660095017124102146', 'ResponseMetadata': {'RequestId': 'd6ac60e3-fd20-656e-8130-4247eac03320', 'HTTPStatusCode': 200, 'HTTPHeaders': {'x-amzn-requestid': 'd6ac60e3-fd20-656e-8130-4247eac03320', 'x-amz-id-2': 'WDfgFEHnKycJUu/F1DrRISr16MglDGCpxBvPovVkmssu1sCoRN7/xp85uxeejIV/ABtrJEp54Y5kHP8bSHCrM6GVtAtJyrvX', 'date': 'Thu, 30 Jul 2020 01:20:36 GMT', 'content-type': 'application/x-amz-json-1.1', 'content-length': '110'}, 'RetryAttempts': 0}}\n",
      "{\"createdate\": \"2020-07-29 18:20:40.989874\", \"firstname\": \"Benjamin\", \"lastname\": \"Wang\", \"gender\": \"F\", \"birthdate\": \"1943-09-19\"}\n",
      "{'ShardId': 'shardId-000000000000', 'SequenceNumber': '49609271672181081963178164687401365732056597628048113666', 'ResponseMetadata': {'RequestId': 'cdc6ebc4-6add-74c2-9a5a-c96c7d3d228c', 'HTTPStatusCode': 200, 'HTTPHeaders': {'x-amzn-requestid': 'cdc6ebc4-6add-74c2-9a5a-c96c7d3d228c', 'x-amz-id-2': 'M0TWVCEdArBSlR5jnVvQcNaxtAMixEb+c+0W3PbwM7/UHsJdq2c9HQD3pea4O+0YH717DUXP88hC9nGXcFKwNVnoV/BGTC9T', 'date': 'Thu, 30 Jul 2020 01:20:40 GMT', 'content-type': 'application/x-amz-json-1.1', 'content-length': '110'}, 'RetryAttempts': 0}}\n",
      "{\"createdate\": \"2020-07-29 18:20:44.051387\", \"firstname\": \"Jeffrey\", \"lastname\": \"Smith\", \"gender\": \"F\", \"birthdate\": \"2006-06-22\"}\n",
      "{'ShardId': 'shardId-000000000000', 'SequenceNumber': '49609271672181081963178164704117183039868075432868839426', 'ResponseMetadata': {'RequestId': 'd3fe272c-f43f-b3a4-8462-0587e3dfe5ea', 'HTTPStatusCode': 200, 'HTTPHeaders': {'x-amzn-requestid': 'd3fe272c-f43f-b3a4-8462-0587e3dfe5ea', 'x-amz-id-2': 'ZYfa1qS7U8Qz4fvfOYdpHsKivnTujggNPbAT79Imu+vQ2G5j8wRLuAsEAwt6uej06RJfhqfElvwTrpJ1v3KiiVEAOLHXodax', 'date': 'Thu, 30 Jul 2020 01:20:43 GMT', 'content-type': 'application/x-amz-json-1.1', 'content-length': '110'}, 'RetryAttempts': 0}}\n",
      "{\"createdate\": \"2020-07-29 18:20:47.122446\", \"firstname\": \"Martin\", \"lastname\": \"Miller\", \"gender\": \"M\", \"birthdate\": \"1954-07-17\"}\n",
      "{'ShardId': 'shardId-000000000000', 'SequenceNumber': '49609271672181081963178164720371190684586764892951805954', 'ResponseMetadata': {'RequestId': 'db125d63-30f4-2f25-8c8e-7fcd2714796b', 'HTTPStatusCode': 200, 'HTTPHeaders': {'x-amzn-requestid': 'db125d63-30f4-2f25-8c8e-7fcd2714796b', 'x-amz-id-2': '2Z9eU31NNUnRMXU3l8IRwLk4X8XpFd0dLQ/mY9hGX0Au8BDd0Tp0YvbVgpFfbOti82kfcaCqGXoouoQvrWLeLG3yt+C0s90m', 'date': 'Thu, 30 Jul 2020 01:20:46 GMT', 'content-type': 'application/x-amz-json-1.1', 'content-length': '110'}, 'RetryAttempts': 0}}\n",
      "{\"createdate\": \"2020-07-29 18:20:50.171608\", \"firstname\": \"Brenda\", \"lastname\": \"Ramsey\", \"gender\": \"M\", \"birthdate\": \"1922-10-04\"}\n",
      "{'ShardId': 'shardId-000000000000', 'SequenceNumber': '49609271672181081963178164735375169031823927786388586498', 'ResponseMetadata': {'RequestId': 'c8bd23e2-126d-9400-9f21-0153058dc24e', 'HTTPStatusCode': 200, 'HTTPHeaders': {'x-amzn-requestid': 'c8bd23e2-126d-9400-9f21-0153058dc24e', 'x-amz-id-2': 'KPd/+3CoTfCgDk4MCN1KZ7+IVBV9IKefFSjcwnMSWHc1y0UmKVQmmXAGZGczfBiOq2ItD02pS1FWJqq0WkHCiVcT+Hr44QCn', 'date': 'Thu, 30 Jul 2020 01:20:49 GMT', 'content-type': 'application/x-amz-json-1.1', 'content-length': '110'}, 'RetryAttempts': 0}}\n",
      "{\"createdate\": \"2020-07-29 18:20:53.232421\", \"firstname\": \"Katherine\", \"lastname\": \"Kirby\", \"gender\": \"F\", \"birthdate\": \"1985-05-19\"}\n",
      "{'ShardId': 'shardId-000000000000', 'SequenceNumber': '49609271672181081963178164753131871470323601310631329794', 'ResponseMetadata': {'RequestId': 'e5bdc31e-5385-2ddf-b221-e1aa44657b91', 'HTTPStatusCode': 200, 'HTTPHeaders': {'x-amzn-requestid': 'e5bdc31e-5385-2ddf-b221-e1aa44657b91', 'x-amz-id-2': 'aoIusgvJm/RRXPe2pIHKE6fKR7czdV+wBBgzqsAt+Mk8bxJwW97LiFBtnbRv6p20aKc52ChfLZoc+dvQnRp89Ohlb2Csbxo7', 'date': 'Thu, 30 Jul 2020 01:20:52 GMT', 'content-type': 'application/x-amz-json-1.1', 'content-length': '110'}, 'RetryAttempts': 0}}\n",
      "{\"createdate\": \"2020-07-29 18:20:56.303261\", \"firstname\": \"Joel\", \"lastname\": \"Anthony\", \"gender\": \"M\", \"birthdate\": \"1939-07-08\"}\n",
      "{'ShardId': 'shardId-000000000000', 'SequenceNumber': '49609271672181081963178164767431046064725435395214409730', 'ResponseMetadata': {'RequestId': 'f140e88a-962d-f73f-a6dc-ca3d81cda171', 'HTTPStatusCode': 200, 'HTTPHeaders': {'x-amzn-requestid': 'f140e88a-962d-f73f-a6dc-ca3d81cda171', 'x-amz-id-2': 'NuyhH1M3Zll7KFsHiGwnyB3SGo0dHEQMM6HI+BlT20rFsrLgdWvxe/nsLah26sYPuZMOMqmTPw2gjKVY5RUM1u3RZibTtGZV', 'date': 'Thu, 30 Jul 2020 01:20:55 GMT', 'content-type': 'application/x-amz-json-1.1', 'content-length': '110'}, 'RetryAttempts': 0}}\n"
     ]
    },
    {
     "name": "stdout",
     "output_type": "stream",
     "text": [
      "{\"createdate\": \"2020-07-29 18:20:59.365457\", \"firstname\": \"Caitlin\", \"lastname\": \"Moore\", \"gender\": \"F\", \"birthdate\": \"1928-07-03\"}\n",
      "{'ShardId': 'shardId-000000000000', 'SequenceNumber': '49609271672181081963178164783547236166008057129380872194', 'ResponseMetadata': {'RequestId': 'e49e62ba-4fb7-2c84-b302-400058577aca', 'HTTPStatusCode': 200, 'HTTPHeaders': {'x-amzn-requestid': 'e49e62ba-4fb7-2c84-b302-400058577aca', 'x-amz-id-2': 'Ad5cAhua0EcbiZga0B2+grzvXRgHROxdTS9f1EmZ8x2+jljcF0XpdIgvEnRrkKZXh/CNTD7h/ljIaey9ADI7bHtPCuqg1lrz', 'date': 'Thu, 30 Jul 2020 01:20:58 GMT', 'content-type': 'application/x-amz-json-1.1', 'content-length': '110'}, 'RetryAttempts': 0}}\n",
      "{\"createdate\": \"2020-07-29 18:21:02.433422\", \"firstname\": \"Preston\", \"lastname\": \"May\", \"gender\": \"M\", \"birthdate\": \"1953-10-14\"}\n",
      "{'ShardId': 'shardId-000000000000', 'SequenceNumber': '49609271672181081963178164800127653782022696466634506242', 'ResponseMetadata': {'RequestId': 'e2f36524-7b46-45cc-b56f-47996ca61382', 'HTTPStatusCode': 200, 'HTTPHeaders': {'x-amzn-requestid': 'e2f36524-7b46-45cc-b56f-47996ca61382', 'x-amz-id-2': 'i2BwVvFNyiiSc0clA77H1wjL13riH7huthuuZZgF3gPJqaXy4axf+C7KvASCXGL/sBmEt7LkMlRqld5lM8GDzOfYFHdJwg/g', 'date': 'Thu, 30 Jul 2020 01:21:01 GMT', 'content-type': 'application/x-amz-json-1.1', 'content-length': '110'}, 'RetryAttempts': 0}}\n",
      "{\"createdate\": \"2020-07-29 18:21:05.489497\", \"firstname\": \"Brandon\", \"lastname\": \"Harvey\", \"gender\": \"F\", \"birthdate\": \"1932-11-19\"}\n",
      "{'ShardId': 'shardId-000000000000', 'SequenceNumber': '49609271672181081963178164815569263275960355121314922498', 'ResponseMetadata': {'RequestId': 'de9072cb-b60b-bf56-890c-500ba1ebe918', 'HTTPStatusCode': 200, 'HTTPHeaders': {'x-amzn-requestid': 'de9072cb-b60b-bf56-890c-500ba1ebe918', 'x-amz-id-2': 'OPOeHEuQvTFWiaGVjlWj9ddH2ZdpRl6ri4ag2V0bTN0ouQEXtecjwTS7qLkSsllFOQKA3XT8Z3+7YGDWmvabuhq6tZxjvuvx', 'date': 'Thu, 30 Jul 2020 01:21:04 GMT', 'content-type': 'application/x-amz-json-1.1', 'content-length': '110'}, 'RetryAttempts': 0}}\n",
      "{\"createdate\": \"2020-07-29 18:21:08.551166\", \"firstname\": \"Kyle\", \"lastname\": \"Chen\", \"gender\": \"M\", \"birthdate\": \"1978-10-31\"}\n",
      "{'ShardId': 'shardId-000000000000', 'SequenceNumber': '49609271672181081963178164830784803641630078120325283842', 'ResponseMetadata': {'RequestId': 'c2c9e9d9-2499-53aa-9555-cb1a337905e4', 'HTTPStatusCode': 200, 'HTTPHeaders': {'x-amzn-requestid': 'c2c9e9d9-2499-53aa-9555-cb1a337905e4', 'x-amz-id-2': '+DnorFy1QDKjeQ4wSVPgwa64qg8byJjWbCnS0u1CAHHHVUeBETGxoeJM+MuCdP23jmN8olhR64mWa1S8FIqGdygVwJhe0tgJ', 'date': 'Thu, 30 Jul 2020 01:21:07 GMT', 'content-type': 'application/x-amz-json-1.1', 'content-length': '110'}, 'RetryAttempts': 0}}\n"
     ]
    }
   ],
   "source": [
    "#Producer\n",
    "\n",
    "class User():\n",
    "    \n",
    "    def __init__(self):\n",
    "\n",
    "        self.createdate = str(datetime.datetime.now())\n",
    "        self.firstname = fake.first_name()\n",
    "        self.lastname = fake.last_name()\n",
    "        self.gender = fake.profile()['sex']\n",
    "        self.birthdate = str(fake.profile()['birthdate'])\n",
    "\n",
    "#Push records to Kinesis\n",
    "for _ in range(30):\n",
    "    user = User()\n",
    "    user_json = json.dumps(user.__dict__)\n",
    "    print(user_json)\n",
    "    put_response = kinesis.put_record(\n",
    "        StreamName = 'petebchamp_kstream', \n",
    "        Data = user_json + '\\n',\n",
    "        PartitionKey = 'partitionkey')\n",
    "    print(put_response)\n",
    "    time.sleep(3)\n"
   ]
  }
 ],
 "metadata": {
  "kernelspec": {
   "display_name": "Python 3",
   "language": "python",
   "name": "python3"
  },
  "language_info": {
   "codemirror_mode": {
    "name": "ipython",
    "version": 3
   },
   "file_extension": ".py",
   "mimetype": "text/x-python",
   "name": "python",
   "nbconvert_exporter": "python",
   "pygments_lexer": "ipython3",
   "version": "3.7.3"
  }
 },
 "nbformat": 4,
 "nbformat_minor": 2
}
